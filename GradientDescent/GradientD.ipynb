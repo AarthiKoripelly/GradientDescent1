{
 "cells": [
  {
   "cell_type": "code",
   "execution_count": null,
   "metadata": {},
   "outputs": [],
   "source": [
    "#Use Function, Find Local Minimum \n",
    "# Function = (x^2+7x)^2"
   ]
  },
  {
   "cell_type": "code",
   "execution_count": 17,
   "metadata": {},
   "outputs": [
    {
     "name": "stdout",
     "output_type": "stream",
     "text": [
      "Iteration 1  value:  -4.8\n",
      "Iteration 2  value:  -5.34912\n",
      "Iteration 3  value:  -6.002285044110459\n",
      "Iteration 4  value:  -6.601689365736516\n",
      "Iteration 5  value:  -6.927927916515351\n",
      "Iteration 6  value:  -6.996391891345426\n",
      "Iteration 7  value:  -6.999922371957601\n",
      "Iteration 8  value:  -6.999998444908203\n",
      "Iteration 9  value:  -6.999999968897148\n",
      "Iteration 10  value:  -6.999999999377942\n",
      "The local minimum occurs at:  -6.999999999377942\n"
     ]
    }
   ],
   "source": [
    "current_x = 3\n",
    "l_rate = 0.01\n",
    "precision = 0.000001\n",
    "step_size = 1\n",
    "maximumiters = 10000\n",
    "iters = 0\n",
    "df = lambda x: 2*(pow(x,2)+7*x)*(2*x+7)\n",
    "    \n",
    "while step_size > precision and iters < maximumiters:\n",
    "    holder = current_x\n",
    "    current_x = current_x-l_rate*(df(holder))\n",
    "    step_size = abs(current_x-holder)\n",
    "    iters = iters +1\n",
    "    print(\"Iteration\", iters, \" value: \", current_x)\n",
    "    \n",
    "print(\"The local minimum occurs at: \", current_x)"
   ]
  },
  {
   "cell_type": "code",
   "execution_count": null,
   "metadata": {},
   "outputs": [],
   "source": []
  },
  {
   "cell_type": "code",
   "execution_count": null,
   "metadata": {},
   "outputs": [],
   "source": []
  }
 ],
 "metadata": {
  "kernelspec": {
   "display_name": "Python 3",
   "language": "python",
   "name": "python3"
  },
  "language_info": {
   "codemirror_mode": {
    "name": "ipython",
    "version": 3
   },
   "file_extension": ".py",
   "mimetype": "text/x-python",
   "name": "python",
   "nbconvert_exporter": "python",
   "pygments_lexer": "ipython3",
   "version": "3.6.5"
  }
 },
 "nbformat": 4,
 "nbformat_minor": 2
}
